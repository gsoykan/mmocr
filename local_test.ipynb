{
 "cells": [
  {
   "cell_type": "code",
   "execution_count": 1,
   "metadata": {
    "collapsed": true
   },
   "outputs": [],
   "source": [
    "%load_ext autoreload\n",
    "%autoreload 2"
   ]
  },
  {
   "cell_type": "markdown",
   "source": [
    "\n",
    "# Check Installed Dependencies Version"
   ],
   "metadata": {
    "collapsed": false,
    "pycharm": {
     "name": "#%% md\n"
    }
   }
  },
  {
   "cell_type": "code",
   "execution_count": 2,
   "outputs": [
    {
     "name": "stdout",
     "output_type": "stream",
     "text": [
      "1.6.0 True\n",
      "2.25.0\n",
      "1.5.2\n",
      "10.1\n",
      "GCC 7.3\n",
      "0.6.0\n",
      " CITATION.cff\t\t\t\t        ocr_test_sb_3.jpg\r\n",
      " configs\t\t\t\t        ocr_test_sb_4.jpg\r\n",
      " demo\t\t\t\t\t        ocr_test_sb_5.jpg\r\n",
      " docker\t\t\t\t\t        README.md\r\n",
      " docs\t\t\t\t\t        README_zh-CN.md\r\n",
      "'inference results_screenshot_17.02.2022.png'   requirements\r\n",
      " LICENSE\t\t\t\t        requirements.txt\r\n",
      " local_test.ipynb\t\t\t        resources\r\n",
      " MANIFEST.in\t\t\t\t        setup.cfg\r\n",
      " mmocr\t\t\t\t\t        setup.py\r\n",
      " mmocr.egg-info\t\t\t\t        test_res.json\r\n",
      " model-index.yml\t\t\t        tests\r\n",
      " no_text.jpg\t\t\t\t        text_detector_training.ipynb\r\n",
      " ocr_test_sb_0.jpg\t\t\t        text_recognition_training.ipynb\r\n",
      " ocr_test_sb_1.jpg\t\t\t        tools\r\n",
      " ocr_test_sb_2.jpg\t\t\t        work_dirs\r\n"
     ]
    }
   ],
   "source": [
    "# Check Pytorch installation\n",
    "import torch, torchvision\n",
    "print(torch.__version__, torch.cuda.is_available())\n",
    "\n",
    "# Check MMDetection installation\n",
    "import mmdet\n",
    "print(mmdet.__version__)\n",
    "\n",
    "# Check mmcv installation\n",
    "import mmcv\n",
    "from mmcv.ops import get_compiling_cuda_version, get_compiler_version\n",
    "print(mmcv.__version__)\n",
    "print(get_compiling_cuda_version())\n",
    "print(get_compiler_version())\n",
    "\n",
    "# Check mmocr installation\n",
    "import mmocr\n",
    "print(mmocr.__version__)\n",
    "\n",
    "!ls\n"
   ],
   "metadata": {
    "collapsed": false,
    "pycharm": {
     "name": "#%%\n"
    }
   }
  },
  {
   "cell_type": "code",
   "execution_count": 6,
   "outputs": [],
   "source": [
    "from mmocr.utils.ocr import MMOCR"
   ],
   "metadata": {
    "collapsed": false,
    "pycharm": {
     "name": "#%%\n"
    }
   }
  },
  {
   "cell_type": "markdown",
   "source": [
    "Text Recognition\n",
    "This has failed :://"
   ],
   "metadata": {
    "collapsed": false,
    "pycharm": {
     "name": "#%% md\n"
    }
   }
  },
  {
   "cell_type": "code",
   "execution_count": 7,
   "outputs": [
    {
     "name": "stdout",
     "output_type": "stream",
     "text": [
      "load checkpoint from http path: https://download.openmmlab.com/mmocr/textrecog/tps/crnn_tps_academic_dataset_20210510-d221a905.pth\n"
     ]
    },
    {
     "name": "stderr",
     "output_type": "stream",
     "text": [
      "Downloading: \"https://download.openmmlab.com/mmocr/textrecog/tps/crnn_tps_academic_dataset_20210510-d221a905.pth\" to /home/gsoykan20/.cache/torch/checkpoints/crnn_tps_academic_dataset_20210510-d221a905.pth\n",
      "100.0%\n"
     ]
    }
   ],
   "source": [
    "ocr = MMOCR(det=None, recog='CRNN_TPS')"
   ],
   "metadata": {
    "collapsed": false,
    "pycharm": {
     "name": "#%%\n"
    }
   }
  },
  {
   "cell_type": "code",
   "execution_count": 8,
   "outputs": [],
   "source": [
    "ocr_input_folder = \"/home/gsoykan20/Desktop/self_development/ai-lightning-hydra-template/notebooks/ocr_input\"\n",
    "ocr_output_folder = \"/home/gsoykan20/Desktop/self_development/ai-lightning-hydra-template/notebooks/ocr_output\""
   ],
   "metadata": {
    "collapsed": false,
    "pycharm": {
     "name": "#%%\n"
    }
   }
  },
  {
   "cell_type": "code",
   "execution_count": 9,
   "outputs": [],
   "source": [
    "results = ocr.readtext(ocr_input_folder,\n",
    "          output = ocr_output_folder,\n",
    "batch_mode=False)"
   ],
   "metadata": {
    "collapsed": false,
    "pycharm": {
     "name": "#%%\n"
    }
   }
  },
  {
   "cell_type": "markdown",
   "source": [
    "Text Detection + Recognition\n",
    "model zoo: https://mmocr.readthedocs.io/en/latest/textrecog_models.html"
   ],
   "metadata": {
    "collapsed": false,
    "pycharm": {
     "name": "#%% md\n"
    }
   }
  },
  {
   "cell_type": "code",
   "execution_count": 1,
   "outputs": [],
   "source": [
    "from mmocr.utils.ocr import MMOCR"
   ],
   "metadata": {
    "collapsed": false,
    "pycharm": {
     "name": "#%%\n"
    }
   }
  },
  {
   "cell_type": "code",
   "execution_count": 13,
   "outputs": [
    {
     "name": "stdout",
     "output_type": "stream",
     "text": [
      "load checkpoint from local path: /home/gsoykan20/Desktop/self_development/mmocr/work_dirs/dbnet_r50dcnv2_fpnc_1200e_icdar2015_custom_90train_10test/best_0_hmean-iou:hmean_epoch_5.pth\n"
     ]
    },
    {
     "name": "stderr",
     "output_type": "stream",
     "text": [
      "2022-06-08 16:37:20,801 - root - INFO - ModulatedDeformConvPack backbone.layer2.0.conv2 is upgraded to version 2.\n",
      "2022-06-08 16:37:20,802 - root - INFO - ModulatedDeformConvPack backbone.layer2.1.conv2 is upgraded to version 2.\n",
      "2022-06-08 16:37:20,804 - root - INFO - ModulatedDeformConvPack backbone.layer2.2.conv2 is upgraded to version 2.\n",
      "2022-06-08 16:37:20,805 - root - INFO - ModulatedDeformConvPack backbone.layer2.3.conv2 is upgraded to version 2.\n",
      "2022-06-08 16:37:20,806 - root - INFO - ModulatedDeformConvPack backbone.layer3.0.conv2 is upgraded to version 2.\n",
      "2022-06-08 16:37:20,807 - root - INFO - ModulatedDeformConvPack backbone.layer3.1.conv2 is upgraded to version 2.\n",
      "2022-06-08 16:37:20,809 - root - INFO - ModulatedDeformConvPack backbone.layer3.2.conv2 is upgraded to version 2.\n",
      "2022-06-08 16:37:20,810 - root - INFO - ModulatedDeformConvPack backbone.layer3.3.conv2 is upgraded to version 2.\n",
      "2022-06-08 16:37:20,811 - root - INFO - ModulatedDeformConvPack backbone.layer3.4.conv2 is upgraded to version 2.\n",
      "2022-06-08 16:37:20,813 - root - INFO - ModulatedDeformConvPack backbone.layer3.5.conv2 is upgraded to version 2.\n",
      "2022-06-08 16:37:20,815 - root - INFO - ModulatedDeformConvPack backbone.layer4.0.conv2 is upgraded to version 2.\n",
      "2022-06-08 16:37:20,819 - root - INFO - ModulatedDeformConvPack backbone.layer4.1.conv2 is upgraded to version 2.\n",
      "2022-06-08 16:37:20,822 - root - INFO - ModulatedDeformConvPack backbone.layer4.2.conv2 is upgraded to version 2.\n"
     ]
    },
    {
     "name": "stdout",
     "output_type": "stream",
     "text": [
      "load checkpoint from http path: https://download.openmmlab.com/mmocr/textrecog/nrtr/nrtr_r31_1by8_1by4_academic_20211123-e1fdb322.pth\n"
     ]
    },
    {
     "name": "stderr",
     "output_type": "stream",
     "text": [
      "Downloading: \"https://download.openmmlab.com/mmocr/textrecog/nrtr/nrtr_r31_1by8_1by4_academic_20211123-e1fdb322.pth\" to /home/gsoykan20/.cache/torch/checkpoints/nrtr_r31_1by8_1by4_academic_20211123-e1fdb322.pth\n",
      "100.0%\n"
     ]
    }
   ],
   "source": [
    "# PANet_CTW\n",
    "# PANet_IC15\n",
    "# TextSnake\n",
    "ocr = MMOCR(det='DB_r50',\n",
    "            recog='NRTR_1/8-1/4',\n",
    "           det_ckpt=\"/home/gsoykan20/Desktop/self_development/mmocr/work_dirs/dbnet_r50dcnv2_fpnc_1200e_icdar2015_custom_90train_10test/best_0_hmean-iou:hmean_epoch_5.pth\") #'ABINet')\n",
    "# cool det's: PANet_IC15 - PS_IC15(BEST) - DB_r50 - DB_r18\n",
    "# cool recog's: 'NRTR_1/16-1/8', 'NRTR_1/8-1/4' (BEST), SAR\n",
    "# new best combo: (det='DB_r50', recog='ABINet')"
   ],
   "metadata": {
    "collapsed": false,
    "pycharm": {
     "name": "#%%\n"
    }
   }
  },
  {
   "cell_type": "code",
   "execution_count": 20,
   "outputs": [
    {
     "name": "stderr",
     "output_type": "stream",
     "text": [
      "2022-06-08 16:44:48,311 - root - INFO - ModulatedDeformConvPack backbone.layer2.0.conv2 is upgraded to version 2.\n",
      "2022-06-08 16:44:48,313 - root - INFO - ModulatedDeformConvPack backbone.layer2.1.conv2 is upgraded to version 2.\n",
      "2022-06-08 16:44:48,314 - root - INFO - ModulatedDeformConvPack backbone.layer2.2.conv2 is upgraded to version 2.\n",
      "2022-06-08 16:44:48,315 - root - INFO - ModulatedDeformConvPack backbone.layer2.3.conv2 is upgraded to version 2.\n",
      "2022-06-08 16:44:48,317 - root - INFO - ModulatedDeformConvPack backbone.layer3.0.conv2 is upgraded to version 2.\n",
      "2022-06-08 16:44:48,318 - root - INFO - ModulatedDeformConvPack backbone.layer3.1.conv2 is upgraded to version 2.\n",
      "2022-06-08 16:44:48,320 - root - INFO - ModulatedDeformConvPack backbone.layer3.2.conv2 is upgraded to version 2.\n",
      "2022-06-08 16:44:48,321 - root - INFO - ModulatedDeformConvPack backbone.layer3.3.conv2 is upgraded to version 2.\n",
      "2022-06-08 16:44:48,323 - root - INFO - ModulatedDeformConvPack backbone.layer3.4.conv2 is upgraded to version 2.\n",
      "2022-06-08 16:44:48,324 - root - INFO - ModulatedDeformConvPack backbone.layer3.5.conv2 is upgraded to version 2.\n",
      "2022-06-08 16:44:48,326 - root - INFO - ModulatedDeformConvPack backbone.layer4.0.conv2 is upgraded to version 2.\n",
      "2022-06-08 16:44:48,330 - root - INFO - ModulatedDeformConvPack backbone.layer4.1.conv2 is upgraded to version 2.\n",
      "2022-06-08 16:44:48,333 - root - INFO - ModulatedDeformConvPack backbone.layer4.2.conv2 is upgraded to version 2.\n"
     ]
    },
    {
     "name": "stdout",
     "output_type": "stream",
     "text": [
      "load checkpoint from http path: https://download.openmmlab.com/mmocr/textdet/dbnet/dbnetpp_r50dcnv2_fpnc_1200e_icdar2015-20220502-d7a76fff.pth\n",
      "load checkpoint from http path: https://download.openmmlab.com/mmocr/textrecog/master/master_r31_12e_ST_MJ_SA-787edd36.pth\n"
     ]
    },
    {
     "name": "stderr",
     "output_type": "stream",
     "text": [
      "Downloading: \"https://download.openmmlab.com/mmocr/textrecog/master/master_r31_12e_ST_MJ_SA-787edd36.pth\" to /home/gsoykan20/.cache/torch/checkpoints/master_r31_12e_ST_MJ_SA-787edd36.pth\n",
      "100.0%\n"
     ]
    }
   ],
   "source": [
    "ocr = MMOCR(det='DBPP_r50',\n",
    "            recog='MASTER')"
   ],
   "metadata": {
    "collapsed": false,
    "pycharm": {
     "name": "#%%\n"
    }
   }
  },
  {
   "cell_type": "code",
   "execution_count": 10,
   "outputs": [],
   "source": [
    "# im_path = \"/home/gsoykan20/Desktop/self_development/mmocr/ocr_test_sb_4.jpg\"\n",
    "# im_path = \"/home/gsoykan20/Desktop/self_development/comics_pipeline/example_comic_pages/demo_pages/text_boxes/weekly_1/speech_balloon_4.jpg\"\n",
    "im_path = \"/home/gsoykan20/Desktop/self_development/mmocr/ocr_test_sb_3.jpg\""
   ],
   "metadata": {
    "collapsed": false,
    "pycharm": {
     "name": "#%%\n"
    }
   }
  },
  {
   "cell_type": "code",
   "execution_count": 21,
   "outputs": [
    {
     "name": "stderr",
     "output_type": "stream",
     "text": [
      "/opt/anaconda3/envs/open-mmlab/lib/python3.7/site-packages/mmdet/datasets/utils.py:70: UserWarning: \"ImageToTensor\" pipeline is replaced by \"DefaultFormatBundle\" for batch inference. It is recommended to manually replace it in the test data pipeline in your config file.\n",
      "  'data pipeline in your config file.', UserWarning)\n",
      "/home/gsoykan20/Desktop/self_development/mmocr/mmocr/models/textdet/postprocess/utils.py:39: VisibleDeprecationWarning: Creating an ndarray from ragged nested sequences (which is a list-or-tuple of lists-or-tuples-or ndarrays with different lengths or shapes) is deprecated. If you meant to do this, you must specify 'dtype=object' when creating the ndarray\n",
      "  expanded = np.array(offset.Execute(distance))\n",
      "/home/gsoykan20/Desktop/self_development/mmocr/mmocr/apis/utils.py:53: UserWarning: Remove \"MultiRotateAugOCR\" to support batch inference since samples_per_gpu > 1.\n",
      "  warnings.warn(warning_msg)\n"
     ]
    },
    {
     "name": "stdout",
     "output_type": "stream",
     "text": [
      "{'filename': 'ocr_test_sb_3', 'result': [{'box': [16, 119, 104, 118, 104, 137, 16, 137], 'box_score': 0.9022591252897665, 'text': 'THERE', 'text_score': 26.752015686035158}, {'box': [207, 116, 273, 113, 274, 135, 208, 138], 'box_score': 0.9051835471174512, 'text': 'NOW', 'text_score': 17.830377260843914}, {'box': [113, 116, 152, 114, 153, 137, 114, 139], 'box_score': 0.8669070628491993, 'text': 'HE`', 'text_score': 10.239486535390219}, {'box': [11, 94, 129, 92, 130, 110, 11, 112], 'box_score': 0.8800088977092173, 'text': 'CHANCE', 'text_score': 24.9069766998291}, {'box': [152, 90, 225, 88, 226, 109, 152, 111], 'box_score': 0.8455201176916151, 'text': 'HAW!', 'text_score': 21.657867431640625}, {'box': [235, 90, 300, 88, 301, 108, 236, 111], 'box_score': 0.8997199008621203, 'text': 'HAW', 'text_score': 20.3372376759847}, {'box': [8, 88, 8, 67, 73, 67, 73, 88], 'box_score': 0.9043516538423553, 'text': 'and', 'text_score': 21.603461583455402}, {'box': [127, 66, 201, 64, 201, 84, 127, 87], 'box_score': 0.8738368183114285, 'text': 'GAVE', 'text_score': 24.60241174697876}, {'box': [82, 88, 82, 63, 121, 63, 121, 88], 'box_score': 0.8694436182162889, 'text': 'HE', 'text_score': 14.18602991104126}, {'box': [208, 63, 254, 63, 254, 86, 208, 86], 'box_score': 0.8254656262458788, 'text': 'me', 'text_score': 15.202208995819092}, {'box': [148, 60, 148, 38, 203, 39, 203, 61], 'box_score': 0.897062009168633, 'text': 'get', 'text_score': 23.55480893452962}, {'box': [216, 39, 294, 38, 295, 59, 216, 59], 'box_score': 0.9071372958798375, 'text': 'LAZO', 'text_score': 17.619549036026}, {'box': [15, 17, 106, 14, 106, 33, 16, 37], 'box_score': 0.9130635925537937, 'text': 'later', 'text_score': 23.90688304901123}, {'box': [188, 33, 188, 14, 288, 14, 288, 33], 'box_score': 0.8975804986514275, 'text': 'SWORE', 'text_score': 28.607596969604494}]}\n",
      "\n"
     ]
    }
   ],
   "source": [
    "results = ocr.readtext(im_path,\n",
    "                       print_result=True,\n",
    "                       imshow=True,\n",
    "                       details=True,\n",
    "                       merge=False,\n",
    "                       merge_xdist=100,\n",
    "                       batch_mode=True)"
   ],
   "metadata": {
    "collapsed": false,
    "pycharm": {
     "name": "#%%\n"
    }
   }
  },
  {
   "cell_type": "code",
   "execution_count": 5,
   "outputs": [
    {
     "ename": "KeyboardInterrupt",
     "evalue": "",
     "output_type": "error",
     "traceback": [
      "\u001B[0;31m---------------------------------------------------------------------------\u001B[0m",
      "\u001B[0;31mKeyboardInterrupt\u001B[0m                         Traceback (most recent call last)",
      "\u001B[0;32m/tmp/ipykernel_761913/2574350197.py\u001B[0m in \u001B[0;36m<module>\u001B[0;34m\u001B[0m\n\u001B[0;32m----> 1\u001B[0;31m \u001B[0mprint\u001B[0m\u001B[0;34m(\u001B[0m\u001B[0mresults\u001B[0m\u001B[0;34m)\u001B[0m\u001B[0;34m\u001B[0m\u001B[0;34m\u001B[0m\u001B[0m\n\u001B[0m",
      "\u001B[0;32m/tmp/ipykernel_761913/2574350197.py\u001B[0m in \u001B[0;36m<module>\u001B[0;34m\u001B[0m\n\u001B[0;32m----> 1\u001B[0;31m \u001B[0mprint\u001B[0m\u001B[0;34m(\u001B[0m\u001B[0mresults\u001B[0m\u001B[0;34m)\u001B[0m\u001B[0;34m\u001B[0m\u001B[0;34m\u001B[0m\u001B[0m\n\u001B[0m",
      "\u001B[0;32m~/.local/share/JetBrains/Toolbox/apps/PyCharm-P/ch-0/213.6461.77/plugins/python/helpers/pydev/_pydevd_bundle/pydevd_frame.py\u001B[0m in \u001B[0;36mtrace_dispatch\u001B[0;34m(self, frame, event, arg)\u001B[0m\n\u001B[1;32m    745\u001B[0m                 \u001B[0;31m# if thread has a suspend flag, we suspend with a busy wait\u001B[0m\u001B[0;34m\u001B[0m\u001B[0;34m\u001B[0m\u001B[0;34m\u001B[0m\u001B[0m\n\u001B[1;32m    746\u001B[0m                 \u001B[0;32mif\u001B[0m \u001B[0minfo\u001B[0m\u001B[0;34m.\u001B[0m\u001B[0mpydev_state\u001B[0m \u001B[0;34m==\u001B[0m \u001B[0mSTATE_SUSPEND\u001B[0m\u001B[0;34m:\u001B[0m\u001B[0;34m\u001B[0m\u001B[0;34m\u001B[0m\u001B[0m\n\u001B[0;32m--> 747\u001B[0;31m                     \u001B[0mself\u001B[0m\u001B[0;34m.\u001B[0m\u001B[0mdo_wait_suspend\u001B[0m\u001B[0;34m(\u001B[0m\u001B[0mthread\u001B[0m\u001B[0;34m,\u001B[0m \u001B[0mframe\u001B[0m\u001B[0;34m,\u001B[0m \u001B[0mevent\u001B[0m\u001B[0;34m,\u001B[0m \u001B[0marg\u001B[0m\u001B[0;34m)\u001B[0m\u001B[0;34m\u001B[0m\u001B[0;34m\u001B[0m\u001B[0m\n\u001B[0m\u001B[1;32m    748\u001B[0m                     \u001B[0;31m# No need to reset frame.f_trace to keep the same trace function.\u001B[0m\u001B[0;34m\u001B[0m\u001B[0;34m\u001B[0m\u001B[0;34m\u001B[0m\u001B[0m\n\u001B[1;32m    749\u001B[0m                     \u001B[0;32mreturn\u001B[0m \u001B[0mself\u001B[0m\u001B[0;34m.\u001B[0m\u001B[0mtrace_dispatch\u001B[0m\u001B[0;34m\u001B[0m\u001B[0;34m\u001B[0m\u001B[0m\n",
      "\u001B[0;32m~/.local/share/JetBrains/Toolbox/apps/PyCharm-P/ch-0/213.6461.77/plugins/python/helpers/pydev/_pydevd_bundle/pydevd_frame.py\u001B[0m in \u001B[0;36mdo_wait_suspend\u001B[0;34m(self, *args, **kwargs)\u001B[0m\n\u001B[1;32m    142\u001B[0m \u001B[0;34m\u001B[0m\u001B[0m\n\u001B[1;32m    143\u001B[0m     \u001B[0;32mdef\u001B[0m \u001B[0mdo_wait_suspend\u001B[0m\u001B[0;34m(\u001B[0m\u001B[0mself\u001B[0m\u001B[0;34m,\u001B[0m \u001B[0;34m*\u001B[0m\u001B[0margs\u001B[0m\u001B[0;34m,\u001B[0m \u001B[0;34m**\u001B[0m\u001B[0mkwargs\u001B[0m\u001B[0;34m)\u001B[0m\u001B[0;34m:\u001B[0m\u001B[0;34m\u001B[0m\u001B[0;34m\u001B[0m\u001B[0m\n\u001B[0;32m--> 144\u001B[0;31m         \u001B[0mself\u001B[0m\u001B[0;34m.\u001B[0m\u001B[0m_args\u001B[0m\u001B[0;34m[\u001B[0m\u001B[0;36m0\u001B[0m\u001B[0;34m]\u001B[0m\u001B[0;34m.\u001B[0m\u001B[0mdo_wait_suspend\u001B[0m\u001B[0;34m(\u001B[0m\u001B[0;34m*\u001B[0m\u001B[0margs\u001B[0m\u001B[0;34m,\u001B[0m \u001B[0;34m**\u001B[0m\u001B[0mkwargs\u001B[0m\u001B[0;34m)\u001B[0m\u001B[0;34m\u001B[0m\u001B[0;34m\u001B[0m\u001B[0m\n\u001B[0m\u001B[1;32m    145\u001B[0m \u001B[0;34m\u001B[0m\u001B[0m\n\u001B[1;32m    146\u001B[0m     \u001B[0;31m# IFDEF CYTHON\u001B[0m\u001B[0;34m\u001B[0m\u001B[0;34m\u001B[0m\u001B[0;34m\u001B[0m\u001B[0m\n",
      "\u001B[0;32m~/.local/share/JetBrains/Toolbox/apps/PyCharm-P/ch-0/213.6461.77/plugins/python/helpers/pydev/pydevd.py\u001B[0m in \u001B[0;36mdo_wait_suspend\u001B[0;34m(self, thread, frame, event, arg, send_suspend_message, is_unhandled_exception)\u001B[0m\n\u001B[1;32m   1145\u001B[0m \u001B[0;34m\u001B[0m\u001B[0m\n\u001B[1;32m   1146\u001B[0m         \u001B[0;32mwith\u001B[0m \u001B[0mself\u001B[0m\u001B[0;34m.\u001B[0m\u001B[0m_threads_suspended_single_notification\u001B[0m\u001B[0;34m.\u001B[0m\u001B[0mnotify_thread_suspended\u001B[0m\u001B[0;34m(\u001B[0m\u001B[0mthread_id\u001B[0m\u001B[0;34m,\u001B[0m \u001B[0mstop_reason\u001B[0m\u001B[0;34m)\u001B[0m\u001B[0;34m:\u001B[0m\u001B[0;34m\u001B[0m\u001B[0;34m\u001B[0m\u001B[0m\n\u001B[0;32m-> 1147\u001B[0;31m             \u001B[0mself\u001B[0m\u001B[0;34m.\u001B[0m\u001B[0m_do_wait_suspend\u001B[0m\u001B[0;34m(\u001B[0m\u001B[0mthread\u001B[0m\u001B[0;34m,\u001B[0m \u001B[0mframe\u001B[0m\u001B[0;34m,\u001B[0m \u001B[0mevent\u001B[0m\u001B[0;34m,\u001B[0m \u001B[0marg\u001B[0m\u001B[0;34m,\u001B[0m \u001B[0msuspend_type\u001B[0m\u001B[0;34m,\u001B[0m \u001B[0mfrom_this_thread\u001B[0m\u001B[0;34m)\u001B[0m\u001B[0;34m\u001B[0m\u001B[0;34m\u001B[0m\u001B[0m\n\u001B[0m\u001B[1;32m   1148\u001B[0m \u001B[0;34m\u001B[0m\u001B[0m\n\u001B[1;32m   1149\u001B[0m     \u001B[0;32mdef\u001B[0m \u001B[0m_do_wait_suspend\u001B[0m\u001B[0;34m(\u001B[0m\u001B[0mself\u001B[0m\u001B[0;34m,\u001B[0m \u001B[0mthread\u001B[0m\u001B[0;34m,\u001B[0m \u001B[0mframe\u001B[0m\u001B[0;34m,\u001B[0m \u001B[0mevent\u001B[0m\u001B[0;34m,\u001B[0m \u001B[0marg\u001B[0m\u001B[0;34m,\u001B[0m \u001B[0msuspend_type\u001B[0m\u001B[0;34m,\u001B[0m \u001B[0mfrom_this_thread\u001B[0m\u001B[0;34m)\u001B[0m\u001B[0;34m:\u001B[0m\u001B[0;34m\u001B[0m\u001B[0;34m\u001B[0m\u001B[0m\n",
      "\u001B[0;32m~/.local/share/JetBrains/Toolbox/apps/PyCharm-P/ch-0/213.6461.77/plugins/python/helpers/pydev/pydevd.py\u001B[0m in \u001B[0;36m_do_wait_suspend\u001B[0;34m(self, thread, frame, event, arg, suspend_type, from_this_thread)\u001B[0m\n\u001B[1;32m   1160\u001B[0m \u001B[0;34m\u001B[0m\u001B[0m\n\u001B[1;32m   1161\u001B[0m                 \u001B[0mself\u001B[0m\u001B[0;34m.\u001B[0m\u001B[0mprocess_internal_commands\u001B[0m\u001B[0;34m(\u001B[0m\u001B[0;34m)\u001B[0m\u001B[0;34m\u001B[0m\u001B[0;34m\u001B[0m\u001B[0m\n\u001B[0;32m-> 1162\u001B[0;31m                 \u001B[0mtime\u001B[0m\u001B[0;34m.\u001B[0m\u001B[0msleep\u001B[0m\u001B[0;34m(\u001B[0m\u001B[0;36m0.01\u001B[0m\u001B[0;34m)\u001B[0m\u001B[0;34m\u001B[0m\u001B[0;34m\u001B[0m\u001B[0m\n\u001B[0m\u001B[1;32m   1163\u001B[0m \u001B[0;34m\u001B[0m\u001B[0m\n\u001B[1;32m   1164\u001B[0m         \u001B[0mself\u001B[0m\u001B[0;34m.\u001B[0m\u001B[0mcancel_async_evaluation\u001B[0m\u001B[0;34m(\u001B[0m\u001B[0mget_current_thread_id\u001B[0m\u001B[0;34m(\u001B[0m\u001B[0mthread\u001B[0m\u001B[0;34m)\u001B[0m\u001B[0;34m,\u001B[0m \u001B[0mstr\u001B[0m\u001B[0;34m(\u001B[0m\u001B[0mid\u001B[0m\u001B[0;34m(\u001B[0m\u001B[0mframe\u001B[0m\u001B[0;34m)\u001B[0m\u001B[0;34m)\u001B[0m\u001B[0;34m)\u001B[0m\u001B[0;34m\u001B[0m\u001B[0;34m\u001B[0m\u001B[0m\n",
      "\u001B[0;31mKeyboardInterrupt\u001B[0m: "
     ]
    }
   ],
   "source": [
    "print(results)"
   ],
   "metadata": {
    "collapsed": false,
    "pycharm": {
     "name": "#%%\n"
    }
   }
  },
  {
   "cell_type": "code",
   "execution_count": 10,
   "outputs": [
    {
     "name": "stdout",
     "output_type": "stream",
     "text": [
      "[175.32658258080482, 126.5625, 175.32658258080482, 124.453125, 177.22542643547058, 124.453125, 177.22542643547058, 126.5625, 0.31458373232321307]\n",
      "[14.557802885770798, 137.109375, 14.557802885770798, 118.7578125, 103.80346405506134, 118.7578125, 103.80346405506134, 137.109375, 0.9123374418931474]\n",
      "[178.49134809329917, 122.97657537460327, 181.445105200557, 120.02345037460327, 185.0318102593701, 123.60938787460327, 182.07805315211226, 126.56251287460327, 0.33452079454100275]\n",
      "[110.72011251078038, 116.61080503463745, 152.70282694495654, 113.40943193435669, 154.4776103226268, 136.6738657951355, 112.49489588845063, 139.87523889541626, 0.873964240661377]\n",
      "[208.80917122749634, 115.41453552246094, 274.6814856911951, 115.1489839553833, 274.76312814751145, 135.39015197753906, 208.89080080645363, 135.6557035446167, 0.9363747558746991]\n",
      "[267.6774385996687, 133.6540503501892, 268.3652956101723, 115.08578252792358, 289.53608594812977, 115.86971712112427, 288.8482289376261, 134.4379849433899, 0.6683572783918214]\n",
      "[11.355345343365116, 111.55172967910767, 11.482032801604873, 91.11771297454834, 127.70547785869894, 91.83794403076172, 127.57879040045918, 112.27196073532104, 0.8296708089811233]\n",
      "[151.42620420176536, 89.4088282585144, 223.9158457876474, 88.02573537826538, 224.33621429616323, 110.0494179725647, 151.84657271028118, 111.43251085281372, 0.8546688445169598]\n",
      "[236.05471404182754, 90.76871466636658, 298.59175388197764, 88.67588353157043, 299.1955990021015, 106.71156764030457, 236.65855916195142, 108.80440521240234, 0.9286694394327055]\n",
      "[8.931375664389634, 86.79050731658936, 9.360706814797595, 65.92954301834106, 73.99648575399806, 67.25920629501343, 73.5671546035901, 88.12017059326172, 0.9090500529256783]\n",
      "[128.8644401723377, 84.78887343406677, 128.99831319692203, 66.38458943367004, 200.26524954191518, 66.90277934074402, 200.13137651733086, 85.30706334114075, 0.9461002671108402]\n",
      "[81.87021172699951, 65.11617708206177, 119.89189559109582, 64.16583824157715, 120.450927501759, 86.52178859710693, 82.42923719898317, 87.47212743759155, 0.9356534407208008]\n",
      "[208.50290899743777, 84.67380666732788, 208.92600750607016, 63.10029745101929, 255.2251096717264, 64.00793123245239, 254.802011163094, 85.58144044876099, 0.9028734608706701]\n",
      "[216.50541499952305, 56.378737449645996, 217.068516155643, 37.05032408237457, 295.221465719198, 39.326138734817505, 294.65836456307807, 58.654555320739746, 0.914130961508959]\n",
      "[147.81634565139757, 60.260810136795044, 148.0370120759144, 37.868279814720154, 204.09269682798913, 38.42043614387512, 203.8720304034723, 60.81296968460083, 0.8900107941894816]\n",
      "[15.914553385921181, 17.701657354831696, 104.36569598944607, 14.753920376300812, 104.98388648754099, 33.29581618309021, 16.53274549368598, 36.243553161621094, 0.9335025516177693]\n",
      "[187.3421758768909, 31.629156947135925, 187.38199267104392, 14.74778562784195, 288.00321663739305, 14.985050082206726, 287.96339984324004, 31.866419792175293, 0.9384956758823406]\n",
      "[297.9075025320053, 33.328125, 297.9075025320053, 10.7578125, 346.4335121512413, 10.7578125, 346.4335121512413, 33.328125, 0.9008293085984233]\n"
     ]
    }
   ],
   "source": [
    "for res in results[0]['boundary_result']:\n",
    "    print(res)"
   ],
   "metadata": {
    "collapsed": false,
    "pycharm": {
     "name": "#%%\n"
    }
   }
  },
  {
   "cell_type": "code",
   "execution_count": 10,
   "outputs": [
    {
     "ename": "IndexError",
     "evalue": "list index out of range",
     "output_type": "error",
     "traceback": [
      "\u001B[0;31m---------------------------------------------------------------------------\u001B[0m",
      "\u001B[0;31mIndexError\u001B[0m                                Traceback (most recent call last)",
      "\u001B[0;32m/tmp/ipykernel_1420679/3384589424.py\u001B[0m in \u001B[0;36m<module>\u001B[0;34m\u001B[0m\n\u001B[1;32m      7\u001B[0m                            batch_mode=True)\n\u001B[1;32m      8\u001B[0m \u001B[0;34m\u001B[0m\u001B[0m\n\u001B[0;32m----> 9\u001B[0;31m \u001B[0mget_res\u001B[0m\u001B[0;34m(\u001B[0m\u001B[0;34m)\u001B[0m\u001B[0;34m\u001B[0m\u001B[0;34m\u001B[0m\u001B[0m\n\u001B[0m\u001B[1;32m     10\u001B[0m \u001B[0mprint\u001B[0m\u001B[0;34m(\u001B[0m\u001B[0;34mf\"Completed Execution in {time.perf_counter() - start} seconds\"\u001B[0m\u001B[0;34m)\u001B[0m\u001B[0;34m\u001B[0m\u001B[0;34m\u001B[0m\u001B[0m\n",
      "\u001B[0;32m/tmp/ipykernel_1420679/3384589424.py\u001B[0m in \u001B[0;36mget_res\u001B[0;34m()\u001B[0m\n\u001B[1;32m      5\u001B[0m     \u001B[0mstart\u001B[0m \u001B[0;34m=\u001B[0m \u001B[0mtime\u001B[0m\u001B[0;34m.\u001B[0m\u001B[0mperf_counter\u001B[0m\u001B[0;34m(\u001B[0m\u001B[0;34m)\u001B[0m\u001B[0;34m\u001B[0m\u001B[0;34m\u001B[0m\u001B[0m\n\u001B[1;32m      6\u001B[0m     results = ocr.readtext(im_path, print_result=False, imshow=True, details=True, merge=False, merge_xdist=50,\n\u001B[0;32m----> 7\u001B[0;31m                            batch_mode=True)\n\u001B[0m\u001B[1;32m      8\u001B[0m \u001B[0;34m\u001B[0m\u001B[0m\n\u001B[1;32m      9\u001B[0m \u001B[0mget_res\u001B[0m\u001B[0;34m(\u001B[0m\u001B[0;34m)\u001B[0m\u001B[0;34m\u001B[0m\u001B[0;34m\u001B[0m\u001B[0m\n",
      "\u001B[0;32m~/Desktop/self_development/mmocr/mmocr/utils/ocr.py\u001B[0m in \u001B[0;36mreadtext\u001B[0;34m(self, img, output, details, export, export_format, batch_mode, recog_batch_size, det_batch_size, single_batch_size, imshow, print_result, merge, merge_xdist, **kwargs)\u001B[0m\n\u001B[1;32m    424\u001B[0m         \u001B[0;32mif\u001B[0m \u001B[0mself\u001B[0m\u001B[0;34m.\u001B[0m\u001B[0mdetect_model\u001B[0m \u001B[0;32mand\u001B[0m \u001B[0mself\u001B[0m\u001B[0;34m.\u001B[0m\u001B[0mrecog_model\u001B[0m\u001B[0;34m:\u001B[0m\u001B[0;34m\u001B[0m\u001B[0;34m\u001B[0m\u001B[0m\n\u001B[1;32m    425\u001B[0m             det_recog_result = self.det_recog_kie_inference(\n\u001B[0;32m--> 426\u001B[0;31m                 self.detect_model, self.recog_model, kie_model=self.kie_model)\n\u001B[0m\u001B[1;32m    427\u001B[0m             \u001B[0mpp_result\u001B[0m \u001B[0;34m=\u001B[0m \u001B[0mself\u001B[0m\u001B[0;34m.\u001B[0m\u001B[0mdet_recog_pp\u001B[0m\u001B[0;34m(\u001B[0m\u001B[0mdet_recog_result\u001B[0m\u001B[0;34m)\u001B[0m\u001B[0;34m\u001B[0m\u001B[0;34m\u001B[0m\u001B[0m\n\u001B[1;32m    428\u001B[0m         \u001B[0;32melse\u001B[0m\u001B[0;34m:\u001B[0m\u001B[0;34m\u001B[0m\u001B[0;34m\u001B[0m\u001B[0m\n",
      "\u001B[0;32m~/Desktop/self_development/mmocr/mmocr/utils/ocr.py\u001B[0m in \u001B[0;36mdet_recog_kie_inference\u001B[0;34m(self, det_model, recog_model, kie_model)\u001B[0m\n\u001B[1;32m    568\u001B[0m             \u001B[0;32mif\u001B[0m \u001B[0mself\u001B[0m\u001B[0;34m.\u001B[0m\u001B[0margs\u001B[0m\u001B[0;34m.\u001B[0m\u001B[0mbatch_mode\u001B[0m\u001B[0;34m:\u001B[0m\u001B[0;34m\u001B[0m\u001B[0;34m\u001B[0m\u001B[0m\n\u001B[1;32m    569\u001B[0m                 recog_results = self.single_inference(\n\u001B[0;32m--> 570\u001B[0;31m                     recog_model, box_imgs, True, self.args.recog_batch_size)\n\u001B[0m\u001B[1;32m    571\u001B[0m                 \u001B[0;32mfor\u001B[0m \u001B[0mi\u001B[0m\u001B[0;34m,\u001B[0m \u001B[0mrecog_result\u001B[0m \u001B[0;32min\u001B[0m \u001B[0menumerate\u001B[0m\u001B[0;34m(\u001B[0m\u001B[0mrecog_results\u001B[0m\u001B[0;34m)\u001B[0m\u001B[0;34m:\u001B[0m\u001B[0;34m\u001B[0m\u001B[0;34m\u001B[0m\u001B[0m\n\u001B[1;32m    572\u001B[0m                     \u001B[0mtext\u001B[0m \u001B[0;34m=\u001B[0m \u001B[0mrecog_result\u001B[0m\u001B[0;34m[\u001B[0m\u001B[0;34m'text'\u001B[0m\u001B[0;34m]\u001B[0m\u001B[0;34m\u001B[0m\u001B[0;34m\u001B[0m\u001B[0m\n",
      "\u001B[0;32m~/Desktop/self_development/mmocr/mmocr/utils/ocr.py\u001B[0m in \u001B[0;36msingle_inference\u001B[0;34m(self, model, arrays, batch_mode, batch_size)\u001B[0m\n\u001B[1;32m    622\u001B[0m         \u001B[0;32mif\u001B[0m \u001B[0mbatch_mode\u001B[0m\u001B[0;34m:\u001B[0m\u001B[0;34m\u001B[0m\u001B[0;34m\u001B[0m\u001B[0m\n\u001B[1;32m    623\u001B[0m             \u001B[0;32mif\u001B[0m \u001B[0mbatch_size\u001B[0m \u001B[0;34m==\u001B[0m \u001B[0;36m0\u001B[0m\u001B[0;34m:\u001B[0m\u001B[0;34m\u001B[0m\u001B[0;34m\u001B[0m\u001B[0m\n\u001B[0;32m--> 624\u001B[0;31m                 \u001B[0mresult\u001B[0m \u001B[0;34m=\u001B[0m \u001B[0mmodel_inference\u001B[0m\u001B[0;34m(\u001B[0m\u001B[0mmodel\u001B[0m\u001B[0;34m,\u001B[0m \u001B[0marrays\u001B[0m\u001B[0;34m,\u001B[0m \u001B[0mbatch_mode\u001B[0m\u001B[0;34m=\u001B[0m\u001B[0;32mTrue\u001B[0m\u001B[0;34m)\u001B[0m\u001B[0;34m\u001B[0m\u001B[0;34m\u001B[0m\u001B[0m\n\u001B[0m\u001B[1;32m    625\u001B[0m             \u001B[0;32melse\u001B[0m\u001B[0;34m:\u001B[0m\u001B[0;34m\u001B[0m\u001B[0;34m\u001B[0m\u001B[0m\n\u001B[1;32m    626\u001B[0m                 \u001B[0mn\u001B[0m \u001B[0;34m=\u001B[0m \u001B[0mbatch_size\u001B[0m\u001B[0;34m\u001B[0m\u001B[0;34m\u001B[0m\u001B[0m\n",
      "\u001B[0;32m~/Desktop/self_development/mmocr/mmocr/apis/inference.py\u001B[0m in \u001B[0;36mmodel_inference\u001B[0;34m(model, imgs, ann, batch_mode, return_data)\u001B[0m\n\u001B[1;32m     99\u001B[0m     \u001B[0;32mif\u001B[0m \u001B[0misinstance\u001B[0m\u001B[0;34m(\u001B[0m\u001B[0mimgs\u001B[0m\u001B[0;34m,\u001B[0m \u001B[0;34m(\u001B[0m\u001B[0mlist\u001B[0m\u001B[0;34m,\u001B[0m \u001B[0mtuple\u001B[0m\u001B[0;34m)\u001B[0m\u001B[0;34m)\u001B[0m\u001B[0;34m:\u001B[0m\u001B[0;34m\u001B[0m\u001B[0;34m\u001B[0m\u001B[0m\n\u001B[1;32m    100\u001B[0m         \u001B[0mis_batch\u001B[0m \u001B[0;34m=\u001B[0m \u001B[0;32mTrue\u001B[0m\u001B[0;34m\u001B[0m\u001B[0;34m\u001B[0m\u001B[0m\n\u001B[0;32m--> 101\u001B[0;31m         \u001B[0;32mif\u001B[0m \u001B[0;32mnot\u001B[0m \u001B[0misinstance\u001B[0m\u001B[0;34m(\u001B[0m\u001B[0mimgs\u001B[0m\u001B[0;34m[\u001B[0m\u001B[0;36m0\u001B[0m\u001B[0;34m]\u001B[0m\u001B[0;34m,\u001B[0m \u001B[0;34m(\u001B[0m\u001B[0mnp\u001B[0m\u001B[0;34m.\u001B[0m\u001B[0mndarray\u001B[0m\u001B[0;34m,\u001B[0m \u001B[0mstr\u001B[0m\u001B[0;34m)\u001B[0m\u001B[0;34m)\u001B[0m\u001B[0;34m:\u001B[0m\u001B[0;34m\u001B[0m\u001B[0;34m\u001B[0m\u001B[0m\n\u001B[0m\u001B[1;32m    102\u001B[0m             \u001B[0;32mraise\u001B[0m \u001B[0mAssertionError\u001B[0m\u001B[0;34m(\u001B[0m\u001B[0;34m'imgs must be strings or numpy arrays'\u001B[0m\u001B[0;34m)\u001B[0m\u001B[0;34m\u001B[0m\u001B[0;34m\u001B[0m\u001B[0m\n\u001B[1;32m    103\u001B[0m \u001B[0;34m\u001B[0m\u001B[0m\n",
      "\u001B[0;31mIndexError\u001B[0m: list index out of range"
     ]
    }
   ],
   "source": [
    "import time\n",
    "def get_res():\n",
    "    # Inference\n",
    "    global start\n",
    "    start = time.perf_counter()\n",
    "    results = ocr.readtext(im_path, print_result=False, imshow=True, details=True, merge=False, merge_xdist=50,\n",
    "                           batch_mode=True)\n",
    "\n",
    "get_res()\n",
    "print(f\"Completed Execution in {time.perf_counter() - start} seconds\")"
   ],
   "metadata": {
    "collapsed": false,
    "pycharm": {
     "name": "#%%\n"
    }
   }
  },
  {
   "cell_type": "code",
   "execution_count": 5,
   "outputs": [
    {
     "data": {
      "text/plain": "[{'filename': 'speech_balloon_4',\n  'result': [{'box': [42, 58, 43, 28, 104, 30, 104, 60],\n    'box_score': 0.9433643817901611,\n    'text': 'got',\n    'text_score': 11.870807011922201},\n   {'box': [23, 32, 44, 32, 44, 55, 23, 55],\n    'box_score': 0.9153066873550415,\n    'text': 'i',\n    'text_score': 8.835906982421875},\n   {'box': [133, 57, 218, 57, 218, 83, 133, 83],\n    'box_score': 0.9571218490600586,\n    'text': 'there',\n    'text_score': 19.127680206298827},\n   {'box': [30, 84, 30, 58, 97, 59, 97, 86],\n    'box_score': 0.9549450874328613,\n    'text': 'this',\n    'text_score': 17.272404670715332},\n   {'box': [271, 82, 272, 58, 330, 59, 330, 83],\n    'box_score': 0.937420129776001,\n    'text': 'are',\n    'text_score': 14.84378973642985},\n   {'box': [227, 61, 264, 61, 264, 82, 227, 82],\n    'box_score': 0.9475053548812866,\n    'text': 'we',\n    'text_score': 17.48822021484375},\n   {'box': [210, 91, 336, 85, 337, 113, 211, 119],\n    'box_score': 0.9523483514785767,\n    'text': 'synaptic',\n    'text_score': 5.3859259486198425},\n   {'box': [153, 87, 206, 87, 206, 112, 153, 112],\n    'box_score': 0.9490259885787964,\n    'text': 'few',\n    'text_score': 16.810326894124348},\n   {'box': [233, 140, 236, 111, 315, 118, 312, 148],\n    'box_score': 0.9483304619789124,\n    'text': 'along',\n    'text_score': 18.171852111816406},\n   {'box': [150, 145, 150, 116, 227, 116, 227, 145],\n    'box_score': 0.9521666169166565,\n    'text': 'snips',\n    'text_score': 15.334418869018554},\n   {'box': [219, 170, 220, 142, 297, 143, 297, 171],\n    'box_score': 0.9586361050605774,\n    'text': 'flood',\n    'text_score': 17.78318099975586},\n   {'box': [126, 144, 187, 144, 187, 171, 126, 171],\n    'box_score': 0.953693687915802,\n    'text': 'with',\n    'text_score': 15.164783239364624},\n   {'box': [305, 170, 305, 145, 341, 145, 341, 170],\n    'box_score': 0.9436231851577759,\n    'text': 'of',\n    'text_score': 18.670660972595215},\n   {'box': [195, 149, 211, 149, 211, 170, 195, 170],\n    'box_score': 0.9157242178916931,\n    'text': 'a',\n    'text_score': 16.25832748413086},\n   {'box': [141, 202, 141, 173, 322, 175, 322, 205],\n    'box_score': 0.9468263983726501,\n    'text': 'endorphine',\n    'text_score': 7.846669292449951}]}]"
     },
     "execution_count": 5,
     "metadata": {},
     "output_type": "execute_result"
    }
   ],
   "source": [
    "results"
   ],
   "metadata": {
    "collapsed": false,
    "pycharm": {
     "name": "#%%\n"
    }
   }
  },
  {
   "cell_type": "code",
   "execution_count": 132,
   "outputs": [],
   "source": [
    "def get_centroid_from_box(box):\n",
    "    x1 = box[0]\n",
    "    y1 = box[1]\n",
    "    x2 = box[2]\n",
    "    y2 = box[5]\n",
    "    return (x1 + x2) / 2, (y1 + y2) / 2"
   ],
   "metadata": {
    "collapsed": false,
    "pycharm": {
     "name": "#%%\n"
    }
   }
  },
  {
   "cell_type": "code",
   "execution_count": 134,
   "outputs": [],
   "source": [
    "sorted_results = sorted(results[0]['result'], key=lambda x: get_centroid_from_box(x['box'])[1])"
   ],
   "metadata": {
    "collapsed": false,
    "pycharm": {
     "name": "#%%\n"
    }
   }
  },
  {
   "cell_type": "code",
   "execution_count": 135,
   "outputs": [
    {
     "data": {
      "text/plain": "[{'text': 'as THE apparently helpless BOY',\n  'box': [8, 9, 410, 9, 410, 37, 8, 37]},\n {'text': 'UTTERS the MYSTIC word of POWER,',\n  'box': [9, 29, 440, 29, 440, 58, 9, 58]},\n {'text': \"THERE' is a blinding Crash of\",\n  'box': [10, 49, 386, 49, 386, 78, 10, 78]},\n {'text': 'lightning is and THUNDER, and',\n  'box': [15, 70, 396, 70, 396, 100, 15, 100]}]"
     },
     "execution_count": 135,
     "metadata": {},
     "output_type": "execute_result"
    }
   ],
   "source": [
    "sorted_results"
   ],
   "metadata": {
    "collapsed": false,
    "pycharm": {
     "name": "#%%\n"
    }
   }
  },
  {
   "cell_type": "code",
   "execution_count": 129,
   "outputs": [
    {
     "ename": "KeyError",
     "evalue": "'text'",
     "output_type": "error",
     "traceback": [
      "\u001B[0;31m---------------------------------------------------------------------------\u001B[0m",
      "\u001B[0;31mKeyError\u001B[0m                                  Traceback (most recent call last)",
      "\u001B[0;32m/tmp/ipykernel_207562/2475456243.py\u001B[0m in \u001B[0;36m<module>\u001B[0;34m\u001B[0m\n\u001B[0;32m----> 1\u001B[0;31m \u001B[0;34m\" \"\u001B[0m\u001B[0;34m.\u001B[0m\u001B[0mjoin\u001B[0m\u001B[0;34m(\u001B[0m\u001B[0mresults\u001B[0m\u001B[0;34m[\u001B[0m\u001B[0;36m0\u001B[0m\u001B[0;34m]\u001B[0m\u001B[0;34m[\u001B[0m\u001B[0;34m'text'\u001B[0m\u001B[0;34m]\u001B[0m\u001B[0;34m)\u001B[0m\u001B[0;34m\u001B[0m\u001B[0;34m\u001B[0m\u001B[0m\n\u001B[0m",
      "\u001B[0;31mKeyError\u001B[0m: 'text'"
     ]
    }
   ],
   "source": [
    "\" \".join(results[0]['text'])"
   ],
   "metadata": {
    "collapsed": false,
    "pycharm": {
     "name": "#%%\n"
    }
   }
  },
  {
   "cell_type": "code",
   "execution_count": null,
   "outputs": [],
   "source": [],
   "metadata": {
    "collapsed": false,
    "pycharm": {
     "name": "#%%\n"
    }
   }
  }
 ],
 "metadata": {
  "kernelspec": {
   "name": "pycharm-66d3b219",
   "language": "python",
   "display_name": "PyCharm (mmocr)"
  },
  "language_info": {
   "codemirror_mode": {
    "name": "ipython",
    "version": 2
   },
   "file_extension": ".py",
   "mimetype": "text/x-python",
   "name": "python",
   "nbconvert_exporter": "python",
   "pygments_lexer": "ipython2",
   "version": "2.7.6"
  }
 },
 "nbformat": 4,
 "nbformat_minor": 0
}